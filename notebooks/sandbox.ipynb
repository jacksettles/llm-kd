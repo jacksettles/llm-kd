{
 "cells": [
  {
   "cell_type": "code",
   "execution_count": 1,
   "id": "9c948140",
   "metadata": {},
   "outputs": [],
   "source": [
    "from data import Dataset\n",
    "import torch\n",
    "from models import RNNG, RNNLM\n",
    "import torch.nn.functional as F\n",
    "import pandas as pd"
   ]
  },
  {
   "cell_type": "code",
   "execution_count": 2,
   "id": "2e4db6e5",
   "metadata": {},
   "outputs": [],
   "source": [
    "train_data = Dataset('data/ptb-train.pkl')\n",
    "test_data = Dataset('data/ptb-test.pkl')\n",
    "val_data = Dataset('data/ptb-val.pkl')"
   ]
  },
  {
   "cell_type": "code",
   "execution_count": 3,
   "id": "34063435",
   "metadata": {},
   "outputs": [],
   "source": [
    "loaded_data = torch.load('rnng.pt')\n",
    "model_args = loaded_data['args']\n",
    "model_state_dict = loaded_data['model'].state_dict()"
   ]
  },
  {
   "cell_type": "code",
   "execution_count": 4,
   "id": "12e127cc",
   "metadata": {},
   "outputs": [
    {
     "data": {
      "text/plain": [
       "<All keys matched successfully>"
      ]
     },
     "execution_count": 4,
     "metadata": {},
     "output_type": "execute_result"
    }
   ],
   "source": [
    "rnng = RNNG(\n",
    "    vocab=len(loaded_data['word2idx']),\n",
    "    w_dim=model_args['w_dim'],           # Dimensionality of word embeddings\n",
    "    h_dim=model_args['h_dim'],           # Dimensionality of hidden states\n",
    "    q_dim=model_args['q_dim'],           # Dimensionality of 'q' vector\n",
    "    num_layers=model_args['num_layers'], # Number of layers\n",
    "    dropout=model_args['dropout'],       # Dropout rate\n",
    "    max_len=250\n",
    ")\n",
    "rnng.load_state_dict(model_state_dict)"
   ]
  },
  {
   "cell_type": "code",
   "execution_count": 5,
   "id": "9d93b0f4",
   "metadata": {},
   "outputs": [
    {
     "data": {
      "text/plain": [
       "RNNG(\n",
       "  (emb): Embedding(288, 650)\n",
       "  (dropout): Dropout(p=0.5, inplace=False)\n",
       "  (stack_rnn): SeqLSTM(\n",
       "    (linears): ModuleList(\n",
       "      (0): Linear(in_features=1300, out_features=2600, bias=True)\n",
       "      (1): Linear(in_features=1300, out_features=2600, bias=True)\n",
       "    )\n",
       "    (dropout_layer): Dropout(p=0.5, inplace=False)\n",
       "  )\n",
       "  (tree_rnn): TreeLSTM(\n",
       "    (linear): Linear(in_features=1300, out_features=3250, bias=True)\n",
       "  )\n",
       "  (vocab_mlp): Sequential(\n",
       "    (0): Dropout(p=0.5, inplace=False)\n",
       "    (1): Linear(in_features=650, out_features=288, bias=True)\n",
       "  )\n",
       "  (q_binary): Sequential(\n",
       "    (0): Linear(in_features=512, out_features=512, bias=True)\n",
       "    (1): ReLU()\n",
       "    (2): LayerNorm((512,), eps=1e-05, elementwise_affine=True)\n",
       "    (3): Dropout(p=0.5, inplace=False)\n",
       "    (4): Linear(in_features=512, out_features=1, bias=True)\n",
       "  )\n",
       "  (action_mlp_p): Sequential(\n",
       "    (0): Dropout(p=0.5, inplace=False)\n",
       "    (1): Linear(in_features=650, out_features=1, bias=True)\n",
       "  )\n",
       "  (q_leaf_rnn): LSTM(650, 256, batch_first=True, bidirectional=True)\n",
       "  (q_crf): ConstituencyTreeCRF()\n",
       "  (q_pos_emb): Embedding(250, 650)\n",
       ")"
      ]
     },
     "execution_count": 5,
     "metadata": {},
     "output_type": "execute_result"
    }
   ],
   "source": [
    "rnng.eval()\n",
    "rnng.cuda()"
   ]
  },
  {
   "cell_type": "code",
   "execution_count": 6,
   "id": "65c8bbd9",
   "metadata": {},
   "outputs": [],
   "source": [
    "def predict_next_token(model, input_tensor, device='cuda'):\n",
    "\n",
    "    model.eval()\n",
    "    with torch.no_grad():\n",
    "        next_word_probs = model(input_tensor)\n",
    "            \n",
    "    _, max_idx = torch.max(next_word_probs, 1)\n",
    "    print(max_idx)\n",
    "    next_word = loaded_data['idx2word'][max_idx.item()]\n",
    "    return next_word_probs, next_word"
   ]
  },
  {
   "cell_type": "code",
   "execution_count": 7,
   "id": "c13e28cb",
   "metadata": {},
   "outputs": [
    {
     "name": "stdout",
     "output_type": "stream",
     "text": [
      "tensor([[  2, 241,  28,  23, 242, 243, 144,  28, 244,  75, 173, 135, 136,  42,\n",
      "         184, 134,  75,  58,   9, 130, 179, 180, 181, 245,  61,  96, 246, 247,\n",
      "          23, 248,  45,   3]], device='cuda:0')\n",
      "tensor([[  2, 241,  28,  23, 242, 243, 144,  28, 244,  75, 173, 135, 136,  42,\n",
      "         184, 134,  75,  58,   9, 130, 179, 180, 181, 245]], device='cuda:0')\n"
     ]
    }
   ],
   "source": [
    "sents, length, batch_size, gold_actions, gold_spans, gold_binary_trees, other_data = train_data[11]\n",
    "sents = sents.cuda()\n",
    "print(sents)\n",
    "sents = sents[:, :-8]\n",
    "print(sents)"
   ]
  },
  {
   "cell_type": "code",
   "execution_count": 8,
   "id": "80762efa",
   "metadata": {},
   "outputs": [
    {
     "name": "stderr",
     "output_type": "stream",
     "text": [
      "/apps/eb/PyTorch/1.12.1-foss-2022a-CUDA-11.7.0/lib/python3.10/site-packages/torch/nn/functional.py:1960: UserWarning: nn.functional.sigmoid is deprecated. Use torch.sigmoid instead.\n",
      "  warnings.warn(\"nn.functional.sigmoid is deprecated. Use torch.sigmoid instead.\")\n",
      "/apps/eb/PyTorch/1.12.1-foss-2022a-CUDA-11.7.0/lib/python3.10/site-packages/torch/nn/functional.py:1949: UserWarning: nn.functional.tanh is deprecated. Use torch.tanh instead.\n",
      "  warnings.warn(\"nn.functional.tanh is deprecated. Use torch.tanh instead.\")\n"
     ]
    },
    {
     "ename": "TypeError",
     "evalue": "max() received an invalid combination of arguments - got (tuple, int), but expected one of:\n * (Tensor input)\n * (Tensor input, Tensor other, *, Tensor out)\n * (Tensor input, int dim, bool keepdim, *, tuple of Tensors out)\n * (Tensor input, name dim, bool keepdim, *, tuple of Tensors out)\n",
     "output_type": "error",
     "traceback": [
      "\u001b[0;31m---------------------------------------------------------------------------\u001b[0m",
      "\u001b[0;31mTypeError\u001b[0m                                 Traceback (most recent call last)",
      "Cell \u001b[0;32mIn [8], line 1\u001b[0m\n\u001b[0;32m----> 1\u001b[0m out, next_word \u001b[38;5;241m=\u001b[39m \u001b[43mpredict_next_token\u001b[49m\u001b[43m(\u001b[49m\u001b[43mrnng\u001b[49m\u001b[43m,\u001b[49m\u001b[43m \u001b[49m\u001b[43msents\u001b[49m\u001b[43m)\u001b[49m\n\u001b[1;32m      2\u001b[0m \u001b[38;5;28mprint\u001b[39m(next_word)\n",
      "Cell \u001b[0;32mIn [6], line 7\u001b[0m, in \u001b[0;36mpredict_next_token\u001b[0;34m(model, input_tensor, device)\u001b[0m\n\u001b[1;32m      4\u001b[0m \u001b[38;5;28;01mwith\u001b[39;00m torch\u001b[38;5;241m.\u001b[39mno_grad():\n\u001b[1;32m      5\u001b[0m     next_word_probs \u001b[38;5;241m=\u001b[39m model(input_tensor)\n\u001b[0;32m----> 7\u001b[0m _, max_idx \u001b[38;5;241m=\u001b[39m \u001b[43mtorch\u001b[49m\u001b[38;5;241;43m.\u001b[39;49m\u001b[43mmax\u001b[49m\u001b[43m(\u001b[49m\u001b[43mnext_word_probs\u001b[49m\u001b[43m,\u001b[49m\u001b[43m \u001b[49m\u001b[38;5;241;43m1\u001b[39;49m\u001b[43m)\u001b[49m\n\u001b[1;32m      8\u001b[0m \u001b[38;5;28mprint\u001b[39m(max_idx)\n\u001b[1;32m      9\u001b[0m next_word \u001b[38;5;241m=\u001b[39m loaded_data[\u001b[38;5;124m'\u001b[39m\u001b[38;5;124midx2word\u001b[39m\u001b[38;5;124m'\u001b[39m][max_idx\u001b[38;5;241m.\u001b[39mitem()]\n",
      "\u001b[0;31mTypeError\u001b[0m: max() received an invalid combination of arguments - got (tuple, int), but expected one of:\n * (Tensor input)\n * (Tensor input, Tensor other, *, Tensor out)\n * (Tensor input, int dim, bool keepdim, *, tuple of Tensors out)\n * (Tensor input, name dim, bool keepdim, *, tuple of Tensors out)\n"
     ]
    }
   ],
   "source": [
    "out, next_word = predict_next_token(rnng, sents)\n",
    "print(next_word)"
   ]
  },
  {
   "cell_type": "code",
   "execution_count": null,
   "id": "fda2e12a",
   "metadata": {},
   "outputs": [],
   "source": [
    "out = out.squeeze()"
   ]
  },
  {
   "cell_type": "code",
   "execution_count": null,
   "id": "09b453ec",
   "metadata": {},
   "outputs": [],
   "source": [
    "i = 0\n",
    "for x in out:\n",
    "    print(i, \": \", x)\n",
    "    i += 1"
   ]
  },
  {
   "cell_type": "code",
   "execution_count": null,
   "id": "83bf7067",
   "metadata": {},
   "outputs": [],
   "source": []
  },
  {
   "cell_type": "markdown",
   "id": "7943d1ac",
   "metadata": {},
   "source": [
    "# Try the language model RNN"
   ]
  },
  {
   "cell_type": "code",
   "execution_count": 9,
   "id": "297d944a",
   "metadata": {},
   "outputs": [],
   "source": [
    "loaded_lm = torch.load('lm.pt')\n",
    "lm_args = loaded_lm['args']\n",
    "lm_state_dict = loaded_lm['model'].state_dict()"
   ]
  },
  {
   "cell_type": "code",
   "execution_count": 10,
   "id": "46eaa194",
   "metadata": {},
   "outputs": [
    {
     "data": {
      "text/plain": [
       "<All keys matched successfully>"
      ]
     },
     "execution_count": 10,
     "metadata": {},
     "output_type": "execute_result"
    }
   ],
   "source": [
    "rnnlm = RNNLM(\n",
    "    vocab=len(loaded_lm['word2idx']),\n",
    "    w_dim=lm_args['w_dim'],\n",
    "    h_dim=lm_args['h_dim'],           # Dimensionality of hidden states\n",
    "    num_layers=lm_args['num_layers'], # Number of layers\n",
    "    dropout=lm_args['dropout']\n",
    ")\n",
    "rnnlm.load_state_dict(lm_state_dict)"
   ]
  },
  {
   "cell_type": "code",
   "execution_count": 11,
   "id": "ece48397",
   "metadata": {},
   "outputs": [
    {
     "data": {
      "text/plain": [
       "RNNLM(\n",
       "  (word_vecs): Embedding(288, 650)\n",
       "  (dropout): Dropout(p=0.5, inplace=False)\n",
       "  (rnn): LSTM(650, 650, num_layers=100, batch_first=True, dropout=0.5)\n",
       "  (vocab_linear): Linear(in_features=650, out_features=288, bias=True)\n",
       ")"
      ]
     },
     "execution_count": 11,
     "metadata": {},
     "output_type": "execute_result"
    }
   ],
   "source": [
    "rnnlm.eval()\n",
    "rnnlm.cuda()"
   ]
  },
  {
   "cell_type": "code",
   "execution_count": 12,
   "id": "7107f4b5",
   "metadata": {},
   "outputs": [],
   "source": [
    "p = rnnlm(sents)"
   ]
  },
  {
   "cell_type": "code",
   "execution_count": 13,
   "id": "24577e04",
   "metadata": {},
   "outputs": [
    {
     "data": {
      "text/plain": [
       "torch.Size([1, 288])"
      ]
     },
     "execution_count": 13,
     "metadata": {},
     "output_type": "execute_result"
    }
   ],
   "source": [
    "p.shape"
   ]
  },
  {
   "cell_type": "code",
   "execution_count": 14,
   "id": "febcb515",
   "metadata": {},
   "outputs": [
    {
     "name": "stdout",
     "output_type": "stream",
     "text": [
      "tensor([3], device='cuda:0')\n"
     ]
    }
   ],
   "source": [
    "probs, word = predict_next_token(rnnlm, sents)"
   ]
  },
  {
   "cell_type": "code",
   "execution_count": 15,
   "id": "a57048b9",
   "metadata": {},
   "outputs": [
    {
     "data": {
      "text/plain": [
       "'</s>'"
      ]
     },
     "execution_count": 15,
     "metadata": {},
     "output_type": "execute_result"
    }
   ],
   "source": [
    "word"
   ]
  },
  {
   "cell_type": "code",
   "execution_count": 16,
   "id": "028e251a",
   "metadata": {},
   "outputs": [
    {
     "name": "stdout",
     "output_type": "stream",
     "text": [
      "2 : <s>\n",
      "72 : Howard\n",
      "73 : Mosher\n",
      "28 : ,\n",
      "74 : president\n",
      "75 : and\n",
      "76 : chief\n",
      "77 : executive\n",
      "78 : officer\n",
      "28 : ,\n",
      "53 : said\n",
      "79 : he\n",
      "80 : anticipates\n",
      "81 : growth\n",
      "82 : for\n",
      "23 : the\n",
      "65 : luxury\n",
      "66 : auto\n",
      "67 : maker\n",
      "25 : in\n",
      "83 : Britain\n",
      "75 : and\n",
      "84 : Europe\n",
      "28 : ,\n",
      "75 : and\n",
      "25 : in\n",
      "85 : Far\n",
      "86 : Eastern\n",
      "87 : markets\n",
      "45 : .\n",
      "3 : </s>\n",
      "0 : <pad>\n",
      "0 : <pad>\n",
      "0 : <pad>\n",
      "0 : <pad>\n",
      "0 : <pad>\n",
      "0 : <pad>\n",
      "0 : <pad>\n",
      "0 : <pad>\n",
      "0 : <pad>\n",
      "0 : <pad>\n",
      "0 : <pad>\n",
      "0 : <pad>\n",
      "0 : <pad>\n",
      "0 : <pad>\n",
      "0 : <pad>\n",
      "0 : <pad>\n",
      "0 : <pad>\n",
      "0 : <pad>\n",
      "0 : <pad>\n",
      "0 : <pad>\n",
      "0 : <pad>\n",
      "0 : <pad>\n",
      "0 : <pad>\n",
      "0 : <pad>\n",
      "0 : <pad>\n",
      "0 : <pad>\n",
      "0 : <pad>\n",
      "0 : <pad>\n",
      "0 : <pad>\n",
      "0 : <pad>\n",
      "0 : <pad>\n",
      "0 : <pad>\n",
      "0 : <pad>\n",
      "0 : <pad>\n",
      "0 : <pad>\n",
      "0 : <pad>\n",
      "0 : <pad>\n",
      "0 : <pad>\n",
      "0 : <pad>\n",
      "0 : <pad>\n",
      "0 : <pad>\n",
      "0 : <pad>\n",
      "0 : <pad>\n",
      "0 : <pad>\n",
      "0 : <pad>\n",
      "0 : <pad>\n",
      "0 : <pad>\n",
      "0 : <pad>\n",
      "0 : <pad>\n",
      "0 : <pad>\n",
      "0 : <pad>\n",
      "0 : <pad>\n",
      "0 : <pad>\n",
      "0 : <pad>\n",
      "0 : <pad>\n",
      "0 : <pad>\n",
      "0 : <pad>\n",
      "0 : <pad>\n",
      "0 : <pad>\n",
      "0 : <pad>\n",
      "0 : <pad>\n",
      "0 : <pad>\n",
      "0 : <pad>\n",
      "0 : <pad>\n",
      "0 : <pad>\n",
      "0 : <pad>\n",
      "0 : <pad>\n",
      "0 : <pad>\n",
      "0 : <pad>\n",
      "0 : <pad>\n",
      "0 : <pad>\n",
      "0 : <pad>\n",
      "0 : <pad>\n",
      "0 : <pad>\n",
      "0 : <pad>\n",
      "0 : <pad>\n",
      "0 : <pad>\n",
      "0 : <pad>\n",
      "0 : <pad>\n",
      "0 : <pad>\n",
      "0 : <pad>\n",
      "0 : <pad>\n",
      "0 : <pad>\n",
      "0 : <pad>\n",
      "0 : <pad>\n",
      "0 : <pad>\n",
      "0 : <pad>\n",
      "0 : <pad>\n",
      "0 : <pad>\n",
      "0 : <pad>\n",
      "0 : <pad>\n",
      "0 : <pad>\n",
      "0 : <pad>\n",
      "0 : <pad>\n",
      "0 : <pad>\n",
      "0 : <pad>\n",
      "0 : <pad>\n",
      "0 : <pad>\n",
      "0 : <pad>\n",
      "0 : <pad>\n",
      "0 : <pad>\n",
      "0 : <pad>\n",
      "0 : <pad>\n",
      "0 : <pad>\n",
      "0 : <pad>\n",
      "0 : <pad>\n",
      "0 : <pad>\n",
      "0 : <pad>\n",
      "0 : <pad>\n",
      "0 : <pad>\n",
      "0 : <pad>\n",
      "0 : <pad>\n",
      "0 : <pad>\n",
      "0 : <pad>\n",
      "0 : <pad>\n",
      "0 : <pad>\n",
      "0 : <pad>\n",
      "0 : <pad>\n",
      "0 : <pad>\n",
      "0 : <pad>\n",
      "0 : <pad>\n",
      "0 : <pad>\n",
      "0 : <pad>\n",
      "0 : <pad>\n",
      "0 : <pad>\n",
      "0 : <pad>\n",
      "0 : <pad>\n",
      "0 : <pad>\n",
      "0 : <pad>\n",
      "0 : <pad>\n",
      "0 : <pad>\n",
      "0 : <pad>\n",
      "0 : <pad>\n",
      "0 : <pad>\n",
      "0 : <pad>\n",
      "0 : <pad>\n",
      "0 : <pad>\n",
      "0 : <pad>\n",
      "0 : <pad>\n",
      "0 : <pad>\n",
      "0 : <pad>\n",
      "0 : <pad>\n",
      "0 : <pad>\n",
      "0 : <pad>\n",
      "0 : <pad>\n",
      "0 : <pad>\n",
      "0 : <pad>\n",
      "0 : <pad>\n",
      "0 : <pad>\n",
      "0 : <pad>\n",
      "0 : <pad>\n",
      "0 : <pad>\n",
      "0 : <pad>\n",
      "0 : <pad>\n",
      "0 : <pad>\n",
      "0 : <pad>\n",
      "0 : <pad>\n",
      "0 : <pad>\n",
      "0 : <pad>\n",
      "0 : <pad>\n",
      "0 : <pad>\n",
      "0 : <pad>\n",
      "0 : <pad>\n",
      "0 : <pad>\n",
      "0 : <pad>\n",
      "0 : <pad>\n",
      "0 : <pad>\n",
      "0 : <pad>\n",
      "0 : <pad>\n",
      "0 : <pad>\n",
      "0 : <pad>\n"
     ]
    }
   ],
   "source": [
    "for x in train_data.sents[11]:\n",
    "    print(x.item(), \":\", train_data.idx2word[x.item()])"
   ]
  },
  {
   "cell_type": "code",
   "execution_count": 17,
   "id": "b11ed891",
   "metadata": {},
   "outputs": [
    {
     "name": "stdout",
     "output_type": "stream",
     "text": [
      "Currently\n",
      ",\n",
      "the\n",
      "rules\n",
      "force\n",
      "executives\n",
      ",\n",
      "directors\n",
      "and\n",
      "other\n",
      "corporate\n",
      "insiders\n",
      "to\n",
      "report\n",
      "purchases\n",
      "and\n",
      "sales\n",
      "of\n",
      "their\n",
      "companies\n",
      "'\n",
      "shares\n",
      "within\n",
      "about\n",
      "a\n",
      "month\n",
      "after\n",
      "the\n",
      "transaction\n",
      ".\n"
     ]
    }
   ],
   "source": [
    "indices = []\n",
    "for x in train_data[11][6][0][0].split():\n",
    "    print(x)\n",
    "    idx = train_data.word2idx[x]\n",
    "    indices.append(idx)"
   ]
  },
  {
   "cell_type": "code",
   "execution_count": 18,
   "id": "721a5dc1",
   "metadata": {},
   "outputs": [
    {
     "name": "stdout",
     "output_type": "stream",
     "text": [
      "[241, 28, 23, 242, 243, 144, 28, 244, 75, 173, 135, 136, 42, 184, 134, 75, 58, 9, 130, 179, 180, 181, 245, 61, 96, 246, 247, 23, 248]\n"
     ]
    }
   ],
   "source": [
    "indices.pop()\n",
    "print(indices)\n",
    "test_tensor = torch.tensor(indices).unsqueeze(dim=0).cuda()"
   ]
  },
  {
   "cell_type": "code",
   "execution_count": 19,
   "id": "91c67fc3",
   "metadata": {},
   "outputs": [
    {
     "data": {
      "text/plain": [
       "torch.Size([1, 29])"
      ]
     },
     "execution_count": 19,
     "metadata": {},
     "output_type": "execute_result"
    }
   ],
   "source": [
    "test_tensor.shape"
   ]
  },
  {
   "cell_type": "code",
   "execution_count": 20,
   "id": "7414a2f4",
   "metadata": {},
   "outputs": [
    {
     "name": "stdout",
     "output_type": "stream",
     "text": [
      "tensor([3], device='cuda:0')\n"
     ]
    }
   ],
   "source": [
    "probs, word = predict_next_token(rnnlm, test_tensor)"
   ]
  },
  {
   "cell_type": "code",
   "execution_count": 21,
   "id": "c195d8c1",
   "metadata": {},
   "outputs": [
    {
     "data": {
      "text/plain": [
       "'</s>'"
      ]
     },
     "execution_count": 21,
     "metadata": {},
     "output_type": "execute_result"
    }
   ],
   "source": [
    "word"
   ]
  },
  {
   "cell_type": "code",
   "execution_count": 27,
   "id": "53c100cd",
   "metadata": {},
   "outputs": [
    {
     "name": "stdout",
     "output_type": "stream",
     "text": [
      "<class 'str'>\n"
     ]
    }
   ],
   "source": [
    "with open('../train_100M/bnc_spoken.train', 'r', encoding='utf-8') as file:\n",
    "    content = file.read()\n",
    "\n",
    "# Print the content or the first few lines\n",
    "print(type(content))"
   ]
  },
  {
   "cell_type": "code",
   "execution_count": null,
   "id": "e163cff9",
   "metadata": {},
   "outputs": [],
   "source": []
  }
 ],
 "metadata": {
  "kernelspec": {
   "display_name": "Python 3 (ipykernel)",
   "language": "python",
   "name": "python3"
  },
  "language_info": {
   "codemirror_mode": {
    "name": "ipython",
    "version": 3
   },
   "file_extension": ".py",
   "mimetype": "text/x-python",
   "name": "python",
   "nbconvert_exporter": "python",
   "pygments_lexer": "ipython3",
   "version": "3.10.4"
  }
 },
 "nbformat": 4,
 "nbformat_minor": 5
}
