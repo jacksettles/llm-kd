{
 "cells": [
  {
   "cell_type": "code",
   "execution_count": 1,
   "id": "9a9f97ed",
   "metadata": {},
   "outputs": [
    {
     "name": "stderr",
     "output_type": "stream",
     "text": [
      "[nltk_data] Downloading package punkt to /home/jts75596/nltk_data...\n",
      "[nltk_data]   Package punkt is already up-to-date!\n"
     ]
    }
   ],
   "source": [
    "from tokenizers import ByteLevelBPETokenizer\n",
    "import re\n",
    "import glob\n",
    "import chardet\n",
    "import nltk\n",
    "from nltk import Tree\n",
    "nltk.download('punkt')\n",
    "import os"
   ]
  },
  {
   "cell_type": "markdown",
   "id": "99047480",
   "metadata": {},
   "source": [
    "# Function to convert files to UTF-8 encoding"
   ]
  },
  {
   "cell_type": "code",
   "execution_count": 2,
   "id": "77d9c482",
   "metadata": {},
   "outputs": [],
   "source": [
    "def convert_to_utf8(filename, output_filename):\n",
    "    with open(filename, 'rb') as f:\n",
    "        raw_data = f.read()\n",
    "        result = chardet.detect(raw_data)\n",
    "        encoding = result['encoding']\n",
    "#         print(f\"Converting {filename} from {encoding} to UTF-8\")\n",
    "        \n",
    "    with open(filename, 'r', encoding=encoding, errors='ignore') as f, open(output_filename, 'w', encoding='utf-8') as outfile:\n",
    "        for line in f:\n",
    "            outfile.write(line)"
   ]
  },
  {
   "cell_type": "code",
   "execution_count": 2,
   "id": "c9b986bf",
   "metadata": {},
   "outputs": [],
   "source": [
    "# Glob together all of the raw text files from wsj\n",
    "pattern = \"../../treebank_3/raw/wsj/*/*\"\n",
    "raw_wsj = glob.glob(pattern, recursive=True)"
   ]
  },
  {
   "cell_type": "code",
   "execution_count": 4,
   "id": "64b9781e",
   "metadata": {
    "scrolled": false
   },
   "outputs": [],
   "source": [
    "# Make all subdirectories you need\n",
    "for i in range(0, 25):\n",
    "    output_dir = \"../data/raw_ptb_utf8/\"\n",
    "    if i < 10:\n",
    "        i = \"0\"+str(i)\n",
    "    output_dir = output_dir + str(i)\n",
    "    os.makedirs(output_dir, exist_ok=True)\n",
    "\n",
    "# Convert eah file to utf-8\n",
    "for file in raw_wsj:\n",
    "    output_dir = \"../data/raw_ptb_utf8\"\n",
    "    output_filename = file.replace(\"../../treebank_3/raw/wsj\", output_dir)\n",
    "    output_filename = output_filename + \".txt\"\n",
    "    convert_to_utf8(file, output_filename)"
   ]
  },
  {
   "cell_type": "code",
   "execution_count": 34,
   "id": "06acc3b0",
   "metadata": {},
   "outputs": [],
   "source": [
    "pattern = \"../data/raw_ptb_utf8/*/*\"\n",
    "utf8_ptb = glob.glob(pattern, recursive=True)"
   ]
  },
  {
   "cell_type": "code",
   "execution_count": 35,
   "id": "ccc7c1b1",
   "metadata": {},
   "outputs": [],
   "source": [
    "# \"../tokenizers/rnng/vocab.json\", \"../tokenizers/rnng/merges.txt\""
   ]
  },
  {
   "cell_type": "code",
   "execution_count": 36,
   "id": "78b8a208",
   "metadata": {},
   "outputs": [],
   "source": [
    "tokenizer = ByteLevelBPETokenizer()"
   ]
  },
  {
   "cell_type": "code",
   "execution_count": 37,
   "id": "e57b92f8",
   "metadata": {},
   "outputs": [
    {
     "name": "stdout",
     "output_type": "stream",
     "text": [
      "\n",
      "\n",
      "\n"
     ]
    },
    {
     "data": {
      "text/plain": [
       "['../tokenizers/rnng/vocab.json', '../tokenizers/rnng/merges.txt']"
      ]
     },
     "execution_count": 37,
     "metadata": {},
     "output_type": "execute_result"
    }
   ],
   "source": [
    "tokenizer.train(files=utf8_ptb, vocab_size=12000, min_frequency=10, special_tokens=[\n",
    "    \"<s>\",\n",
    "    \"<pad>\",\n",
    "    \"</s>\",\n",
    "    \"<unk>\",\n",
    "    \"<mask>\",\n",
    "])\n",
    "tokenizer.save_model(\"../tokenizers/rnng\")"
   ]
  },
  {
   "cell_type": "code",
   "execution_count": 38,
   "id": "aeffa88c",
   "metadata": {},
   "outputs": [],
   "source": [
    "tokenizer = ByteLevelBPETokenizer(\"../tokenizers/rnng/vocab.json\", \"../tokenizers/rnng/merges.txt\")"
   ]
  },
  {
   "cell_type": "code",
   "execution_count": 69,
   "id": "04ed3c4f",
   "metadata": {},
   "outputs": [
    {
     "name": "stdout",
     "output_type": "stream",
     "text": [
      "Parsed Tree: (SINV-2\n",
      "  (ADVP-PRD-TPC-1 (RB So))\n",
      "  (, ,)\n",
      "  (ADVP (RB too))\n",
      "  (PRN\n",
      "    (, ,)\n",
      "    (S\n",
      "      (NP-SBJ (JJ many) (NNS analysts))\n",
      "      (VP (VBP predict) (SBAR (-NONE- 0) (SINV (-NONE- *T*-2)))))\n",
      "    (, ,))\n",
      "  (VP (MD will) (VP (-NONE- *?*) (ADVP-PRD (-NONE- *T*-1))))\n",
      "  (NP-SBJ\n",
      "    (NP (NNP Exxon) (NNP Corp.))\n",
      "    (, ,)\n",
      "    (NP (NNP Chevron) (NNP Corp.))\n",
      "    (CC and)\n",
      "    (NP (NNP Amoco) (NNP Corp)))\n",
      "  (. .))\n"
     ]
    }
   ],
   "source": [
    "syntax_tree = \"\"\"(SINV-2  (ADVP-PRD-TPC-1 (RB So))  (, ,)  (ADVP (RB too))  (PRN    (, ,)    (S      (NP-SBJ (JJ many) (NNS analysts))      (VP (VBP predict) (SBAR (-NONE- 0) (SINV (-NONE- *T*-2)))))    (, ,))  (VP (MD will) (VP (-NONE- *?*) (ADVP-PRD (-NONE- *T*-1))))  (NP-SBJ    (NP (NNP Exxon) (NNP Corp.))    (, ,)    (NP (NNP Chevron) (NNP Corp.))    (CC and)    (NP (NNP Amoco) (NNP Corp)))  (. .))\"\"\"\n",
    "\n",
    "\n",
    "tree = Tree.fromstring(syntax_tree)\n",
    "print(\"Parsed Tree:\", tree)"
   ]
  },
  {
   "cell_type": "code",
   "execution_count": 86,
   "id": "ba1316b2",
   "metadata": {},
   "outputs": [],
   "source": [
    "def tokenize_tree(tree, tokenizer):\n",
    "    tokenized_tree = tree.copy(deep=True)\n",
    "    for subtree in tokenized_tree.subtrees(lambda t: t.height() == 2):\n",
    "        word = subtree[0]\n",
    "        if re.match(r'\\b\\w+\\b|[.!,]', word):  # Match words and punctuation\n",
    "            encoded = tokenizer.encode(\" \" + word)\n",
    "#             print(encoded.tokens)\n",
    "            subtree[0] = \" \".join(encoded.tokens)\n",
    "    return tokenized_tree"
   ]
  },
  {
   "cell_type": "code",
   "execution_count": 87,
   "id": "cbf72fc6",
   "metadata": {},
   "outputs": [],
   "source": [
    "tokenized_tree = tokenize_tree(tree, tokenizer)"
   ]
  },
  {
   "cell_type": "code",
   "execution_count": 88,
   "id": "cd552f0f",
   "metadata": {},
   "outputs": [],
   "source": [
    "string = \" Rudolph Agnew, 55 years old and former chairman of Consolidated Gold Fields PLC, was named a nonexecutive director of this British industrial conglomerate.\"\n",
    "encoded = tokenizer.encode(string)"
   ]
  },
  {
   "cell_type": "code",
   "execution_count": 90,
   "id": "e57e1d01",
   "metadata": {},
   "outputs": [],
   "source": [
    "def tree_to_str(tree):\n",
    "    return \" \".join(tree.pformat().split())"
   ]
  },
  {
   "cell_type": "code",
   "execution_count": 91,
   "id": "fea2a5dc",
   "metadata": {},
   "outputs": [],
   "source": [
    "# tree_to_str(tokenized_tree)"
   ]
  },
  {
   "cell_type": "code",
   "execution_count": 92,
   "id": "d2dc18e9",
   "metadata": {},
   "outputs": [],
   "source": [
    "train = \"../data/train-ptb.txt\"\n",
    "test = \"../data/test-ptb.txt\"\n",
    "val = \"../data/val-ptb.txt\""
   ]
  },
  {
   "cell_type": "code",
   "execution_count": 93,
   "id": "b0f3549a",
   "metadata": {},
   "outputs": [],
   "source": [
    "with open(train, 'r') as infile, open(\"../data/tokenized_data/tok-train-ptb.txt\", 'w') as outfile:    \n",
    "    for line in infile:\n",
    "        tree = Tree.fromstring(line)\n",
    "        tokenized_tree = tokenize_tree(tree, tokenizer)\n",
    "        tree_str = tree_to_str(tokenized_tree)\n",
    "        outfile.write(tree_str + '\\n')"
   ]
  },
  {
   "cell_type": "code",
   "execution_count": 94,
   "id": "b6097bca",
   "metadata": {},
   "outputs": [],
   "source": [
    "with open(test, 'r') as infile, open(\"../data/tokenized_data/tok-test-ptb.txt\", 'w') as outfile:    \n",
    "    for line in infile:\n",
    "        tree = Tree.fromstring(line)\n",
    "        tokenized_tree = tokenize_tree(tree, tokenizer)\n",
    "        tree_str = tree_to_str(tokenized_tree)\n",
    "        outfile.write(tree_str + '\\n')"
   ]
  },
  {
   "cell_type": "code",
   "execution_count": 95,
   "id": "ebc928d8",
   "metadata": {},
   "outputs": [],
   "source": [
    "with open(val, 'r') as infile, open(\"../data/tokenized_data/tok-val-ptb.txt\", 'w') as outfile:    \n",
    "    for line in infile:\n",
    "        tree = Tree.fromstring(line)\n",
    "        tokenized_tree = tokenize_tree(tree, tokenizer)\n",
    "        tree_str = tree_to_str(tokenized_tree)\n",
    "        outfile.write(tree_str + '\\n')"
   ]
  },
  {
   "cell_type": "code",
   "execution_count": null,
   "id": "f4506117",
   "metadata": {},
   "outputs": [],
   "source": []
  }
 ],
 "metadata": {
  "kernelspec": {
   "display_name": "Python 3 (ipykernel)",
   "language": "python",
   "name": "python3"
  },
  "language_info": {
   "codemirror_mode": {
    "name": "ipython",
    "version": 3
   },
   "file_extension": ".py",
   "mimetype": "text/x-python",
   "name": "python",
   "nbconvert_exporter": "python",
   "pygments_lexer": "ipython3",
   "version": "3.10.4"
  }
 },
 "nbformat": 4,
 "nbformat_minor": 5
}
