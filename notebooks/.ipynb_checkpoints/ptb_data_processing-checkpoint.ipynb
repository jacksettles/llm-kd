{
 "cells": [
  {
   "cell_type": "code",
   "execution_count": 65,
   "id": "337cf813",
   "metadata": {},
   "outputs": [
    {
     "name": "stderr",
     "output_type": "stream",
     "text": [
      "[nltk_data] Downloading package treebank to\n",
      "[nltk_data]     /home/jts75596/nltk_data...\n",
      "[nltk_data]   Package treebank is already up-to-date!\n"
     ]
    }
   ],
   "source": [
    "import pandas as pd\n",
    "import nltk\n",
    "nltk.download('treebank')\n",
    "from nltk.corpus import treebank\n",
    "import re\n",
    "from sklearn.model_selection import train_test_split\n"
   ]
  },
  {
   "cell_type": "code",
   "execution_count": 66,
   "id": "cf903631",
   "metadata": {},
   "outputs": [
    {
     "name": "stdout",
     "output_type": "stream",
     "text": [
      "7760721\n"
     ]
    }
   ],
   "source": [
    "with open('../train_100M/bnc_spoken.train', 'r', encoding='utf-8') as file:\n",
    "    content = file.read()\n",
    "    content = content.split()\n",
    "\n",
    "# Print the content or the first few lines\n",
    "print(len(content))"
   ]
  },
  {
   "cell_type": "code",
   "execution_count": 67,
   "id": "fe975a87",
   "metadata": {},
   "outputs": [
    {
     "data": {
      "text/plain": [
       "['_LazyCorpusLoader__args',\n",
       " '_LazyCorpusLoader__kwargs',\n",
       " '_LazyCorpusLoader__load',\n",
       " '_LazyCorpusLoader__name',\n",
       " '_LazyCorpusLoader__reader_cls',\n",
       " '__class__',\n",
       " '__delattr__',\n",
       " '__dict__',\n",
       " '__dir__',\n",
       " '__doc__',\n",
       " '__eq__',\n",
       " '__format__',\n",
       " '__ge__',\n",
       " '__getattr__',\n",
       " '__getattribute__',\n",
       " '__gt__',\n",
       " '__hash__',\n",
       " '__init__',\n",
       " '__init_subclass__',\n",
       " '__le__',\n",
       " '__lt__',\n",
       " '__module__',\n",
       " '__name__',\n",
       " '__ne__',\n",
       " '__new__',\n",
       " '__reduce__',\n",
       " '__reduce_ex__',\n",
       " '__repr__',\n",
       " '__setattr__',\n",
       " '__sizeof__',\n",
       " '__str__',\n",
       " '__subclasshook__',\n",
       " '__weakref__',\n",
       " '_unload',\n",
       " 'subdir']"
      ]
     },
     "execution_count": 67,
     "metadata": {},
     "output_type": "execute_result"
    }
   ],
   "source": [
    "dir(treebank)"
   ]
  },
  {
   "cell_type": "code",
   "execution_count": 68,
   "id": "8755bb2c",
   "metadata": {},
   "outputs": [],
   "source": [
    "parsed_sents_as_strings = []\n",
    "for x in treebank.parsed_sents():\n",
    "    string_parse = str(x)\n",
    "    sent = \"\"\n",
    "    for j in string_parse.split('\\n'):\n",
    "        sent = sent + j\n",
    "    parsed_sents_as_strings.append(sent)"
   ]
  },
  {
   "cell_type": "code",
   "execution_count": null,
   "id": "ff0cde48",
   "metadata": {},
   "outputs": [],
   "source": []
  },
  {
   "cell_type": "code",
   "execution_count": 9,
   "id": "00379ee8",
   "metadata": {},
   "outputs": [],
   "source": [
    "train, test = train_test_split(parsed_sents_as_strings, test_size=0.2, random_state=42)"
   ]
  },
  {
   "cell_type": "code",
   "execution_count": 10,
   "id": "75be4341",
   "metadata": {},
   "outputs": [],
   "source": [
    "val, test = train_test_split(test, test_size=0.5, random_state=42)"
   ]
  },
  {
   "cell_type": "code",
   "execution_count": 12,
   "id": "42fa919c",
   "metadata": {},
   "outputs": [
    {
     "name": "stdout",
     "output_type": "stream",
     "text": [
      "3131\n",
      "391\n",
      "392\n"
     ]
    }
   ],
   "source": [
    "# train = parsed_sents_as_strings[:3131]\n",
    "# val = parsed_sents_as_strings[3131:3522]\n",
    "# test = parsed_sents_as_strings[3522:]\n",
    "print(len(train))\n",
    "print(len(val))\n",
    "print(len(test))"
   ]
  },
  {
   "cell_type": "code",
   "execution_count": 13,
   "id": "186ab3be",
   "metadata": {},
   "outputs": [],
   "source": [
    "with open('./data/train-ptb.txt', 'w') as file:\n",
    "    for s in train:\n",
    "        file.write(s + '\\n')"
   ]
  },
  {
   "cell_type": "code",
   "execution_count": 14,
   "id": "b6737630",
   "metadata": {},
   "outputs": [],
   "source": [
    "with open('./data/val-ptb.txt', 'w') as file:\n",
    "    for s in val:\n",
    "        file.write(s + '\\n')"
   ]
  },
  {
   "cell_type": "code",
   "execution_count": 15,
   "id": "368f9d95",
   "metadata": {},
   "outputs": [],
   "source": [
    "with open('./data/test-ptb.txt', 'w') as file:\n",
    "    for s in test:\n",
    "        file.write(s + '\\n')"
   ]
  },
  {
   "cell_type": "markdown",
   "id": "b2ea0043",
   "metadata": {},
   "source": [
    "### Using Dr. Hale's MyPTBReader"
   ]
  },
  {
   "cell_type": "code",
   "execution_count": 71,
   "id": "01fe2e80",
   "metadata": {},
   "outputs": [],
   "source": [
    "import os\n",
    "import glob\n",
    "from bracket_parse import MyPTBReader\n",
    "from nltk.corpus.reader.bracket_parse import BracketParseCorpusReader"
   ]
  },
  {
   "cell_type": "code",
   "execution_count": 72,
   "id": "29955ef8",
   "metadata": {},
   "outputs": [],
   "source": [
    "base_directory = \"../treebank_3/parsed/mrg/wsj\""
   ]
  },
  {
   "cell_type": "code",
   "execution_count": 73,
   "id": "b63d2fde",
   "metadata": {},
   "outputs": [],
   "source": [
    "ptb_reader = BracketParseCorpusReader(base_directory, r'.*\\.mrg')"
   ]
  },
  {
   "cell_type": "code",
   "execution_count": 74,
   "id": "823d7714",
   "metadata": {},
   "outputs": [
    {
     "data": {
      "text/plain": [
       "2312"
      ]
     },
     "execution_count": 74,
     "metadata": {},
     "output_type": "execute_result"
    }
   ],
   "source": [
    "len(ptb_reader.fileids())"
   ]
  },
  {
   "cell_type": "code",
   "execution_count": 75,
   "id": "fc470f35",
   "metadata": {},
   "outputs": [],
   "source": [
    "parsed_sentences = []\n",
    "for fileid in ptb_reader.fileids():\n",
    "    for tree in ptb_reader.parsed_sents(fileid):\n",
    "        parsed_sentences.append(tree)"
   ]
  },
  {
   "cell_type": "code",
   "execution_count": 76,
   "id": "0f03ce0e",
   "metadata": {},
   "outputs": [
    {
     "data": {
      "text/plain": [
       "49208"
      ]
     },
     "execution_count": 76,
     "metadata": {},
     "output_type": "execute_result"
    }
   ],
   "source": [
    "len(parsed_sentences)"
   ]
  },
  {
   "cell_type": "code",
   "execution_count": 78,
   "id": "d7a8f632",
   "metadata": {},
   "outputs": [],
   "source": [
    "parsed_sents_as_strings = []\n",
    "for x in parsed_sentences:\n",
    "    string_parse = str(x)\n",
    "    sent = \"\"\n",
    "    for j in string_parse.split('\\n'):\n",
    "        sent = sent + j\n",
    "    parsed_sents_as_strings.append(sent)"
   ]
  },
  {
   "cell_type": "code",
   "execution_count": 88,
   "id": "5845e667",
   "metadata": {},
   "outputs": [
    {
     "name": "stdout",
     "output_type": "stream",
     "text": [
      "39366\n",
      "4921\n",
      "4921\n"
     ]
    }
   ],
   "source": [
    "train, test = train_test_split(parsed_sents_as_strings, test_size=0.2, random_state=42)\n",
    "val, test = train_test_split(test, test_size=0.5, random_state=42)\n",
    "print(len(train))\n",
    "print(len(val))\n",
    "print(len(test))"
   ]
  },
  {
   "cell_type": "code",
   "execution_count": 89,
   "id": "d99f8419",
   "metadata": {},
   "outputs": [],
   "source": [
    "with open('./data/train-ptb.txt', 'w') as file:\n",
    "    for s in train:\n",
    "        file.write(s + '\\n')"
   ]
  },
  {
   "cell_type": "code",
   "execution_count": 90,
   "id": "9d26cc02",
   "metadata": {},
   "outputs": [],
   "source": [
    "with open('./data/val-ptb.txt', 'w') as file:\n",
    "    for s in val:\n",
    "        file.write(s + '\\n')"
   ]
  },
  {
   "cell_type": "code",
   "execution_count": 91,
   "id": "7c5afab0",
   "metadata": {},
   "outputs": [],
   "source": [
    "with open('./data/test-ptb.txt', 'w') as file:\n",
    "    for s in test:\n",
    "        file.write(s + '\\n')"
   ]
  }
 ],
 "metadata": {
  "kernelspec": {
   "display_name": "Python 3 (ipykernel)",
   "language": "python",
   "name": "python3"
  },
  "language_info": {
   "codemirror_mode": {
    "name": "ipython",
    "version": 3
   },
   "file_extension": ".py",
   "mimetype": "text/x-python",
   "name": "python",
   "nbconvert_exporter": "python",
   "pygments_lexer": "ipython3",
   "version": "3.10.4"
  }
 },
 "nbformat": 4,
 "nbformat_minor": 5
}
