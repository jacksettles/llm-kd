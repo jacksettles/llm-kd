{
 "cells": [
  {
   "cell_type": "code",
   "execution_count": 1,
   "id": "2cb5dca5",
   "metadata": {},
   "outputs": [],
   "source": [
    "import pandas as pd\n",
    "import numpy as np\n",
    "import jsonlines\n",
    "import matplotlib.pyplot as plt"
   ]
  },
  {
   "cell_type": "code",
   "execution_count": 2,
   "id": "8585c437",
   "metadata": {},
   "outputs": [],
   "source": [
    "df = pd.read_csv(r'bllip_ltg_test_scores.csv')\n",
    "base_df = pd.read_csv(r'init_blimp_comparison.csv')"
   ]
  },
  {
   "cell_type": "code",
   "execution_count": 3,
   "id": "9b4475c9",
   "metadata": {},
   "outputs": [],
   "source": [
    "gb_df = df.groupby('linguistics_term').agg(list)"
   ]
  },
  {
   "cell_type": "code",
   "execution_count": 4,
   "id": "9641d3db",
   "metadata": {},
   "outputs": [],
   "source": [
    "def avg_list(lst):\n",
    "    return sum(lst) / len(lst)"
   ]
  },
  {
   "cell_type": "code",
   "execution_count": 5,
   "id": "c671e856",
   "metadata": {},
   "outputs": [],
   "source": [
    "gb_df['Control'] = gb_df['Control'].apply(avg_list)\n",
    "gb_df['Distilled'] = gb_df['Distilled'].apply(avg_list)"
   ]
  },
  {
   "cell_type": "code",
   "execution_count": 22,
   "id": "22264e26",
   "metadata": {},
   "outputs": [
    {
     "data": {
      "text/html": [
       "<div>\n",
       "<style scoped>\n",
       "    .dataframe tbody tr th:only-of-type {\n",
       "        vertical-align: middle;\n",
       "    }\n",
       "\n",
       "    .dataframe tbody tr th {\n",
       "        vertical-align: top;\n",
       "    }\n",
       "\n",
       "    .dataframe thead th {\n",
       "        text-align: right;\n",
       "    }\n",
       "</style>\n",
       "<table border=\"1\" class=\"dataframe\">\n",
       "  <thead>\n",
       "    <tr style=\"text-align: right;\">\n",
       "      <th></th>\n",
       "      <th>file</th>\n",
       "      <th>Control</th>\n",
       "      <th>Distilled</th>\n",
       "      <th>linguistics_term</th>\n",
       "    </tr>\n",
       "  </thead>\n",
       "  <tbody>\n",
       "    <tr>\n",
       "      <th>0</th>\n",
       "      <td>blimp_data/adjunct_island.jsonl</td>\n",
       "      <td>57.9</td>\n",
       "      <td>64.1</td>\n",
       "      <td>island_effects</td>\n",
       "    </tr>\n",
       "    <tr>\n",
       "      <th>1</th>\n",
       "      <td>blimp_data/causative.jsonl</td>\n",
       "      <td>58.4</td>\n",
       "      <td>57.5</td>\n",
       "      <td>argument_structure</td>\n",
       "    </tr>\n",
       "    <tr>\n",
       "      <th>2</th>\n",
       "      <td>blimp_data/existential_there_quantifiers_1.jsonl</td>\n",
       "      <td>85.1</td>\n",
       "      <td>85.4</td>\n",
       "      <td>quantifiers</td>\n",
       "    </tr>\n",
       "    <tr>\n",
       "      <th>3</th>\n",
       "      <td>blimp_data/determiner_noun_agreement_with_adj_...</td>\n",
       "      <td>77.0</td>\n",
       "      <td>74.3</td>\n",
       "      <td>determiner_noun_agreement</td>\n",
       "    </tr>\n",
       "    <tr>\n",
       "      <th>4</th>\n",
       "      <td>blimp_data/expletive_it_object_raising.jsonl</td>\n",
       "      <td>61.0</td>\n",
       "      <td>62.1</td>\n",
       "      <td>control_raising</td>\n",
       "    </tr>\n",
       "    <tr>\n",
       "      <th>...</th>\n",
       "      <td>...</td>\n",
       "      <td>...</td>\n",
       "      <td>...</td>\n",
       "      <td>...</td>\n",
       "    </tr>\n",
       "    <tr>\n",
       "      <th>62</th>\n",
       "      <td>blimp_data/animate_subject_trans.jsonl</td>\n",
       "      <td>73.8</td>\n",
       "      <td>70.5</td>\n",
       "      <td>s-selection</td>\n",
       "    </tr>\n",
       "    <tr>\n",
       "      <th>63</th>\n",
       "      <td>blimp_data/wh_questions_subject_gap_long_dista...</td>\n",
       "      <td>81.8</td>\n",
       "      <td>77.2</td>\n",
       "      <td>filler_gap_dependency</td>\n",
       "    </tr>\n",
       "    <tr>\n",
       "      <th>64</th>\n",
       "      <td>blimp_data/sentential_negation_npi_licensor_pr...</td>\n",
       "      <td>93.0</td>\n",
       "      <td>96.3</td>\n",
       "      <td>npi_licensing</td>\n",
       "    </tr>\n",
       "    <tr>\n",
       "      <th>65</th>\n",
       "      <td>blimp_data/drop_argument.jsonl</td>\n",
       "      <td>69.6</td>\n",
       "      <td>68.2</td>\n",
       "      <td>argument_structure</td>\n",
       "    </tr>\n",
       "    <tr>\n",
       "      <th>66</th>\n",
       "      <td>blimp_data/ellipsis_n_bar_1.jsonl</td>\n",
       "      <td>49.2</td>\n",
       "      <td>54.8</td>\n",
       "      <td>ellipsis</td>\n",
       "    </tr>\n",
       "  </tbody>\n",
       "</table>\n",
       "<p>67 rows × 4 columns</p>\n",
       "</div>"
      ],
      "text/plain": [
       "                                                 file  Control  Distilled  \\\n",
       "0                     blimp_data/adjunct_island.jsonl     57.9       64.1   \n",
       "1                          blimp_data/causative.jsonl     58.4       57.5   \n",
       "2    blimp_data/existential_there_quantifiers_1.jsonl     85.1       85.4   \n",
       "3   blimp_data/determiner_noun_agreement_with_adj_...     77.0       74.3   \n",
       "4        blimp_data/expletive_it_object_raising.jsonl     61.0       62.1   \n",
       "..                                                ...      ...        ...   \n",
       "62             blimp_data/animate_subject_trans.jsonl     73.8       70.5   \n",
       "63  blimp_data/wh_questions_subject_gap_long_dista...     81.8       77.2   \n",
       "64  blimp_data/sentential_negation_npi_licensor_pr...     93.0       96.3   \n",
       "65                     blimp_data/drop_argument.jsonl     69.6       68.2   \n",
       "66                  blimp_data/ellipsis_n_bar_1.jsonl     49.2       54.8   \n",
       "\n",
       "             linguistics_term  \n",
       "0              island_effects  \n",
       "1          argument_structure  \n",
       "2                 quantifiers  \n",
       "3   determiner_noun_agreement  \n",
       "4             control_raising  \n",
       "..                        ...  \n",
       "62                s-selection  \n",
       "63      filler_gap_dependency  \n",
       "64              npi_licensing  \n",
       "65         argument_structure  \n",
       "66                   ellipsis  \n",
       "\n",
       "[67 rows x 4 columns]"
      ]
     },
     "execution_count": 22,
     "metadata": {},
     "output_type": "execute_result"
    }
   ],
   "source": [
    "df"
   ]
  },
  {
   "cell_type": "code",
   "execution_count": 26,
   "id": "cd68f250",
   "metadata": {},
   "outputs": [
    {
     "name": "stdout",
     "output_type": "stream",
     "text": [
      "blimp_data/matrix_question_npi_licensor_present.jsonl\n",
      "Total ties: 1\n",
      "Distilled: 38\tControl: 28\n",
      "Total Separation: Distilled = 122.09999999999998\tControl = 65.29999999999998\n",
      "Average Separation: Distilled = 3.2131578947368418\tControl = 2.3321428571428564\n"
     ]
    }
   ],
   "source": [
    "dist_total = 0\n",
    "control_total = 0\n",
    "\n",
    "total_ties = 0\n",
    "\n",
    "dist_sep = 0\n",
    "cont_sep = 0\n",
    "for i, row in df.iterrows():\n",
    "    dist = row['Distilled']\n",
    "    cont = row['Control']\n",
    "    if dist > cont:\n",
    "        dist_total += 1\n",
    "        sep = dist - cont\n",
    "        dist_sep += sep\n",
    "    elif dist == cont:\n",
    "        total_ties += 1\n",
    "        print(row['file'])\n",
    "    else:\n",
    "        control_total += 1\n",
    "        sep = cont - dist\n",
    "        cont_sep += sep\n",
    "print(f\"Total ties: {total_ties}\")\n",
    "print(f\"Distilled: {dist_total}\\tControl: {control_total}\")\n",
    "print(f\"Total Separation: Distilled = {dist_sep}\\tControl = {cont_sep}\")\n",
    "print(f\"Average Separation: Distilled = {dist_sep/dist_total}\\tControl = {cont_sep/control_total}\")"
   ]
  },
  {
   "cell_type": "code",
   "execution_count": 21,
   "id": "8ad5e0ec",
   "metadata": {},
   "outputs": [
    {
     "name": "stdout",
     "output_type": "stream",
     "text": [
      "Total ties: 0\n",
      "Distilled: 23\tControl: 44\n",
      "Total Separation: Distilled = 88.6\tControl = 218.49999999999991\n",
      "Average Separation: Distilled = 3.8521739130434782\tControl = 4.965909090909089\n"
     ]
    }
   ],
   "source": [
    "dist_total = 0\n",
    "control_total = 0\n",
    "\n",
    "total_ties = 0\n",
    "\n",
    "dist_sep = 0\n",
    "cont_sep = 0\n",
    "for i, row in base_df.iterrows():\n",
    "    dist = row['Distilled']\n",
    "    cont = row['Control']\n",
    "    if dist > cont:\n",
    "        dist_total += 1\n",
    "        sep = dist - cont\n",
    "        dist_sep += sep\n",
    "    elif dist == cont:\n",
    "        total_ties += 1\n",
    "    else:\n",
    "        control_total += 1\n",
    "        sep = cont - dist\n",
    "        cont_sep += sep\n",
    "print(f\"Total ties: {total_ties}\")\n",
    "print(f\"Distilled: {dist_total}\\tControl: {control_total}\")\n",
    "print(f\"Total Separation: Distilled = {dist_sep}\\tControl = {cont_sep}\")\n",
    "print(f\"Average Separation: Distilled = {dist_sep/dist_total}\\tControl = {cont_sep/control_total}\")"
   ]
  },
  {
   "cell_type": "code",
   "execution_count": 15,
   "id": "950927e8",
   "metadata": {},
   "outputs": [
    {
     "data": {
      "image/png": "[encoded data removed]",
      "text/plain": [
       "<Figure size 720x1872 with 13 Axes>"
      ]
     },
     "metadata": {
      "needs_background": "light"
     },
     "output_type": "display_data"
    }
   ],
   "source": [
    "fig, axes = plt.subplots(nrows=13, ncols=1, figsize=(10, 2 * 13), sharex=True)\n",
    "colors = ['#1f77b4', '#ff7f0e']\n",
    "\n",
    "# Plot each row in its own subplot\n",
    "for i, ax in enumerate(axes):\n",
    "    row = df.iloc[i]\n",
    "    ind = np.arange(2)  # Since we have two bars: control and distilled\n",
    "    width = 0.35  # Width of the bars\n",
    "\n",
    "    # Extracting the values for control and distilled\n",
    "    values = row[['Control', 'Distilled']].values\n",
    "    term = row.name  # Access the index value for the title\n",
    "\n",
    "    ax.bar(ind - width/2, values, width, color=colors)\n",
    "    ax.set_title(f'Linguistics Term: {term}')\n",
    "    ax.set_xticks(ind)\n",
    "    ax.set_xticklabels(['Control', 'Distilled'])\n",
    "\n",
    "    # Annotate bars with their heights\n",
    "    for j, value in enumerate(values):\n",
    "        ax.annotate(f'{value:.2f}', xy=(ind[j] - width/2, value), ha='center', va='bottom')\n",
    "\n",
    "# Adjust layout\n",
    "plt.tight_layout()\n",
    "plt.show()"
   ]
  },
  {
   "cell_type": "code",
   "execution_count": 42,
   "id": "39a252ee",
   "metadata": {},
   "outputs": [
    {
     "ename": "KeyError",
     "evalue": "'linguistics_term'",
     "output_type": "error",
     "traceback": [
      "\u001b[0;31m---------------------------------------------------------------------------\u001b[0m",
      "\u001b[0;31mKeyError\u001b[0m                                  Traceback (most recent call last)",
      "File \u001b[0;32m/apps/eb/SciPy-bundle/2022.05-foss-2022a/lib/python3.10/site-packages/pandas/core/indexes/base.py:3621\u001b[0m, in \u001b[0;36mIndex.get_loc\u001b[0;34m(self, key, method, tolerance)\u001b[0m\n\u001b[1;32m   3620\u001b[0m \u001b[38;5;28;01mtry\u001b[39;00m:\n\u001b[0;32m-> 3621\u001b[0m     \u001b[38;5;28;01mreturn\u001b[39;00m \u001b[38;5;28;43mself\u001b[39;49m\u001b[38;5;241;43m.\u001b[39;49m\u001b[43m_engine\u001b[49m\u001b[38;5;241;43m.\u001b[39;49m\u001b[43mget_loc\u001b[49m\u001b[43m(\u001b[49m\u001b[43mcasted_key\u001b[49m\u001b[43m)\u001b[49m\n\u001b[1;32m   3622\u001b[0m \u001b[38;5;28;01mexcept\u001b[39;00m \u001b[38;5;167;01mKeyError\u001b[39;00m \u001b[38;5;28;01mas\u001b[39;00m err:\n",
      "File \u001b[0;32m/apps/eb/SciPy-bundle/2022.05-foss-2022a/lib/python3.10/site-packages/pandas/_libs/index.pyx:136\u001b[0m, in \u001b[0;36mpandas._libs.index.IndexEngine.get_loc\u001b[0;34m()\u001b[0m\n",
      "File \u001b[0;32m/apps/eb/SciPy-bundle/2022.05-foss-2022a/lib/python3.10/site-packages/pandas/_libs/index.pyx:163\u001b[0m, in \u001b[0;36mpandas._libs.index.IndexEngine.get_loc\u001b[0;34m()\u001b[0m\n",
      "File \u001b[0;32mpandas/_libs/hashtable_class_helper.pxi:5198\u001b[0m, in \u001b[0;36mpandas._libs.hashtable.PyObjectHashTable.get_item\u001b[0;34m()\u001b[0m\n",
      "File \u001b[0;32mpandas/_libs/hashtable_class_helper.pxi:5206\u001b[0m, in \u001b[0;36mpandas._libs.hashtable.PyObjectHashTable.get_item\u001b[0;34m()\u001b[0m\n",
      "\u001b[0;31mKeyError\u001b[0m: 'linguistics_term'",
      "\nThe above exception was the direct cause of the following exception:\n",
      "\u001b[0;31mKeyError\u001b[0m                                  Traceback (most recent call last)",
      "Cell \u001b[0;32mIn [42], line 17\u001b[0m\n\u001b[1;32m     15\u001b[0m ax\u001b[38;5;241m.\u001b[39mset_title(\u001b[38;5;124m'\u001b[39m\u001b[38;5;124mAverage Control and Distilled Values by Linguistics Term\u001b[39m\u001b[38;5;124m'\u001b[39m)\n\u001b[1;32m     16\u001b[0m ax\u001b[38;5;241m.\u001b[39mset_xticks(ind)\n\u001b[0;32m---> 17\u001b[0m ax\u001b[38;5;241m.\u001b[39mset_xticklabels(\u001b[43mgb_df\u001b[49m\u001b[43m[\u001b[49m\u001b[38;5;124;43m'\u001b[39;49m\u001b[38;5;124;43mlinguistics_term\u001b[39;49m\u001b[38;5;124;43m'\u001b[39;49m\u001b[43m]\u001b[49m, rotation\u001b[38;5;241m=\u001b[39m\u001b[38;5;241m45\u001b[39m)\n\u001b[1;32m     18\u001b[0m ax\u001b[38;5;241m.\u001b[39mlegend()\n\u001b[1;32m     20\u001b[0m \u001b[38;5;66;03m# Function to add labels on top of the bars\u001b[39;00m\n",
      "File \u001b[0;32m/apps/eb/SciPy-bundle/2022.05-foss-2022a/lib/python3.10/site-packages/pandas/core/frame.py:3505\u001b[0m, in \u001b[0;36mDataFrame.__getitem__\u001b[0;34m(self, key)\u001b[0m\n\u001b[1;32m   3503\u001b[0m \u001b[38;5;28;01mif\u001b[39;00m \u001b[38;5;28mself\u001b[39m\u001b[38;5;241m.\u001b[39mcolumns\u001b[38;5;241m.\u001b[39mnlevels \u001b[38;5;241m>\u001b[39m \u001b[38;5;241m1\u001b[39m:\n\u001b[1;32m   3504\u001b[0m     \u001b[38;5;28;01mreturn\u001b[39;00m \u001b[38;5;28mself\u001b[39m\u001b[38;5;241m.\u001b[39m_getitem_multilevel(key)\n\u001b[0;32m-> 3505\u001b[0m indexer \u001b[38;5;241m=\u001b[39m \u001b[38;5;28;43mself\u001b[39;49m\u001b[38;5;241;43m.\u001b[39;49m\u001b[43mcolumns\u001b[49m\u001b[38;5;241;43m.\u001b[39;49m\u001b[43mget_loc\u001b[49m\u001b[43m(\u001b[49m\u001b[43mkey\u001b[49m\u001b[43m)\u001b[49m\n\u001b[1;32m   3506\u001b[0m \u001b[38;5;28;01mif\u001b[39;00m is_integer(indexer):\n\u001b[1;32m   3507\u001b[0m     indexer \u001b[38;5;241m=\u001b[39m [indexer]\n",
      "File \u001b[0;32m/apps/eb/SciPy-bundle/2022.05-foss-2022a/lib/python3.10/site-packages/pandas/core/indexes/base.py:3623\u001b[0m, in \u001b[0;36mIndex.get_loc\u001b[0;34m(self, key, method, tolerance)\u001b[0m\n\u001b[1;32m   3621\u001b[0m     \u001b[38;5;28;01mreturn\u001b[39;00m \u001b[38;5;28mself\u001b[39m\u001b[38;5;241m.\u001b[39m_engine\u001b[38;5;241m.\u001b[39mget_loc(casted_key)\n\u001b[1;32m   3622\u001b[0m \u001b[38;5;28;01mexcept\u001b[39;00m \u001b[38;5;167;01mKeyError\u001b[39;00m \u001b[38;5;28;01mas\u001b[39;00m err:\n\u001b[0;32m-> 3623\u001b[0m     \u001b[38;5;28;01mraise\u001b[39;00m \u001b[38;5;167;01mKeyError\u001b[39;00m(key) \u001b[38;5;28;01mfrom\u001b[39;00m \u001b[38;5;21;01merr\u001b[39;00m\n\u001b[1;32m   3624\u001b[0m \u001b[38;5;28;01mexcept\u001b[39;00m \u001b[38;5;167;01mTypeError\u001b[39;00m:\n\u001b[1;32m   3625\u001b[0m     \u001b[38;5;66;03m# If we have a listlike key, _check_indexing_error will raise\u001b[39;00m\n\u001b[1;32m   3626\u001b[0m     \u001b[38;5;66;03m#  InvalidIndexError. Otherwise we fall through and re-raise\u001b[39;00m\n\u001b[1;32m   3627\u001b[0m     \u001b[38;5;66;03m#  the TypeError.\u001b[39;00m\n\u001b[1;32m   3628\u001b[0m     \u001b[38;5;28mself\u001b[39m\u001b[38;5;241m.\u001b[39m_check_indexing_error(key)\n",
      "\u001b[0;31mKeyError\u001b[0m: 'linguistics_term'"
     ]
    },
    {
     "data": {
      "image/png": "[encoded data removed]",
      "text/plain": [
       "<Figure size 864x576 with 1 Axes>"
      ]
     },
     "metadata": {
      "needs_background": "light"
     },
     "output_type": "display_data"
    }
   ],
   "source": [
    "# Set the positions and width for the bars\n",
    "ind = range(len(gb_df))  # the x locations for the groups\n",
    "width = 0.35  # the width of the bars\n",
    "\n",
    "# Create the plot\n",
    "fig, ax = plt.subplots(figsize=(12, 8))\n",
    "\n",
    "# Plot the bars\n",
    "bars1 = ax.bar([i - width/2 for i in ind], gb_df['Control'], width, label='Control')\n",
    "bars2 = ax.bar([i + width/2 for i in ind], gb_df['Distilled'], width, label='Distilled')\n",
    "\n",
    "# Add some text for labels, title, and custom x-axis tick labels, etc.\n",
    "ax.set_xlabel('Linguistics Term')\n",
    "ax.set_ylabel('Average Value')\n",
    "ax.set_title('Average Control and Distilled Values by Linguistics Term')\n",
    "ax.set_xticks(ind)\n",
    "ax.set_xticklabels(gb_df['linguistics_term'], rotation=45)\n",
    "ax.legend()\n",
    "\n",
    "# Function to add labels on top of the bars\n",
    "def add_labels(bars):\n",
    "    for bar in bars:\n",
    "        height = bar.get_height()\n",
    "        ax.annotate('{}'.format(height),\n",
    "                    xy=(bar.get_x() + bar.get_width() / 2, height),\n",
    "                    xytext=(0, 3),  # 3 points vertical offset\n",
    "                    textcoords=\"offset points\",\n",
    "                    ha='center', va='bottom')\n",
    "\n",
    "# Add labels\n",
    "add_labels(bars1)\n",
    "add_labels(bars2)\n",
    "\n",
    "# Display the plot\n",
    "plt.tight_layout()\n",
    "plt.show()"
   ]
  },
  {
   "cell_type": "code",
   "execution_count": 51,
   "id": "782d59da",
   "metadata": {},
   "outputs": [],
   "source": [
    "mask = base_df['Distilled'] > base_df['Control']"
   ]
  },
  {
   "cell_type": "code",
   "execution_count": 52,
   "id": "2899ea57",
   "metadata": {},
   "outputs": [],
   "source": [
    "def avg_dif(df):\n",
    "    total_dif = 0\n",
    "    for i, row in df.iterrows():\n",
    "        dif = row['Distilled'] - row['Control']\n",
    "        total_dif += abs(dif)\n",
    "    return total_dif/len(df)"
   ]
  },
  {
   "cell_type": "code",
   "execution_count": 53,
   "id": "bdb59edd",
   "metadata": {},
   "outputs": [],
   "source": [
    "dist_dif = avg_dif(base_df[mask])\n",
    "con_dif = avg_dif(base_df[-mask])"
   ]
  },
  {
   "cell_type": "code",
   "execution_count": 54,
   "id": "7efede5e",
   "metadata": {},
   "outputs": [
    {
     "data": {
      "text/plain": [
       "3.8521739130434782"
      ]
     },
     "execution_count": 54,
     "metadata": {},
     "output_type": "execute_result"
    }
   ],
   "source": [
    "dist_dif"
   ]
  },
  {
   "cell_type": "code",
   "execution_count": 55,
   "id": "038fd621",
   "metadata": {},
   "outputs": [
    {
     "data": {
      "text/plain": [
       "4.965909090909089"
      ]
     },
     "execution_count": 55,
     "metadata": {},
     "output_type": "execute_result"
    }
   ],
   "source": [
    "con_dif"
   ]
  },
  {
   "cell_type": "code",
   "execution_count": 58,
   "id": "f7300f24",
   "metadata": {},
   "outputs": [
    {
     "data": {
      "text/plain": [
       "44"
      ]
     },
     "execution_count": 58,
     "metadata": {},
     "output_type": "execute_result"
    }
   ],
   "source": [
    "len(base_df[-mask])"
   ]
  },
  {
   "cell_type": "code",
   "execution_count": null,
   "id": "e8374388",
   "metadata": {},
   "outputs": [],
   "source": []
  }
 ],
 "metadata": {
  "kernelspec": {
   "display_name": "Python 3 (ipykernel)",
   "language": "python",
   "name": "python3"
  },
  "language_info": {
   "codemirror_mode": {
    "name": "ipython",
    "version": 3
   },
   "file_extension": ".py",
   "mimetype": "text/x-python",
   "name": "python",
   "nbconvert_exporter": "python",
   "pygments_lexer": "ipython3",
   "version": "3.10.4"
  }
 },
 "nbformat": 4,
 "nbformat_minor": 5
}
