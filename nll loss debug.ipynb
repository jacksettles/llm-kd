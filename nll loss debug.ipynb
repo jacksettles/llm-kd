{
 "cells": [
  {
   "cell_type": "code",
   "execution_count": 1,
   "id": "17f6ec1d",
   "metadata": {},
   "outputs": [],
   "source": [
    "import torch\n",
    "import torch.nn as nn\n",
    "import torch.nn.functional as F"
   ]
  },
  {
   "cell_type": "code",
   "execution_count": 102,
   "id": "d90f1f9d",
   "metadata": {},
   "outputs": [],
   "source": [
    "random_tensor = torch.rand(16, 12, 12000)\n",
    "batch, seq, vocab = random_tensor.size(0), random_tensor.size(1), random_tensor.size(2)"
   ]
  },
  {
   "cell_type": "code",
   "execution_count": 103,
   "id": "95078d9b",
   "metadata": {},
   "outputs": [],
   "source": [
    "labels = torch.randint(0, 12000, (16, 12))"
   ]
  },
  {
   "cell_type": "markdown",
   "id": "dd6a2a74",
   "metadata": {},
   "source": [
    "# Custom NLL loss calculation"
   ]
  },
  {
   "cell_type": "code",
   "execution_count": 136,
   "id": "1fa9c94b",
   "metadata": {},
   "outputs": [
    {
     "name": "stdout",
     "output_type": "stream",
     "text": [
      "Average loss: 9.441426595052084\n",
      "PPL: 12599.6748046875\n"
     ]
    }
   ],
   "source": [
    "torch.manual_seed(42)\n",
    "total_loss = 0\n",
    "total_tokens = 0\n",
    "for _ in range(5):\n",
    "    random_tensor = torch.rand(16, 12, 12000)\n",
    "    batch, seq, vocab = random_tensor.size(0), random_tensor.size(1), random_tensor.size(2)\n",
    "    labels = torch.randint(0, 12000, (16, 12))\n",
    "    log_probs = F.log_softmax(random_tensor, 2)\n",
    "    labels = labels.unsqueeze(2)\n",
    "    log_probs_gathered = torch.gather(log_probs, 2, labels).squeeze(2).sum(1)\n",
    "    nll_loss = -log_probs_gathered.mean()\n",
    "    # Would backpropagate here: nll_loss.backward()\n",
    "    \n",
    "    total_loss += nll_loss.item()*batch\n",
    "    total_tokens += batch*seq \n",
    "avg_loss = total_loss/total_tokens\n",
    "print(f\"Average loss: {avg_loss}\")\n",
    "ppl = torch.exp(torch.tensor(avg_loss))\n",
    "print(f\"PPL: {ppl.item()}\")"
   ]
  },
  {
   "cell_type": "markdown",
   "id": "6c6d0b71",
   "metadata": {},
   "source": [
    "# PyTorch NLLLoss()"
   ]
  },
  {
   "cell_type": "code",
   "execution_count": 142,
   "id": "c81160df",
   "metadata": {},
   "outputs": [
    {
     "name": "stdout",
     "output_type": "stream",
     "text": [
      "tensor(1814.5616)\n",
      "tensor(1812.5277)\n",
      "tensor(1814.5669)\n",
      "tensor(1809.8182)\n",
      "tensor(1812.2954)\n",
      "Average loss: 9.441426976521809\n",
      "PPL: 12599.6865234375\n"
     ]
    }
   ],
   "source": [
    "torch.manual_seed(42)\n",
    "criterion = nn.NLLLoss(reduction='sum')\n",
    "total_loss = 0\n",
    "total_tokens = 0\n",
    "for _ in range(5):\n",
    "    random_tensor = torch.rand(16, 12, 12000)\n",
    "    batch, seq, vocab = random_tensor.size(0), random_tensor.size(1), random_tensor.size(2)\n",
    "    labels = torch.randint(0, 12000, (16, 12))\n",
    "    log_probs = F.log_softmax(random_tensor, 2)\n",
    "    log_probs = log_probs.view(batch*seq, -1)\n",
    "    labels = labels.view(batch*seq)\n",
    "    pt_loss = criterion(log_probs, labels)\n",
    "    print(pt_loss)\n",
    "    # Would backpropagate here: pt_loss.backward()\n",
    "    \n",
    "    total_loss += pt_loss.item()#*batch#*seq\n",
    "    total_tokens += batch*seq\n",
    "avg_loss = total_loss/total_tokens\n",
    "print(f\"Average loss: {avg_loss}\")\n",
    "ppl = torch.exp(torch.tensor(avg_loss))\n",
    "print(f\"PPL: {ppl.item()}\")"
   ]
  },
  {
   "cell_type": "code",
   "execution_count": 125,
   "id": "f648acc6",
   "metadata": {},
   "outputs": [],
   "source": [
    "random_tensor = torch.rand(16, 12, 12000)\n",
    "batch, seq, vocab = random_tensor.size(0), random_tensor.size(1), random_tensor.size(2)\n",
    "labels = torch.randint(0, 12000, (16, 12))\n",
    "log_probs = F.log_softmax(random_tensor, 2)\n",
    "log_probs = log_probs.view(batch*seq, -1)\n",
    "labels = labels.view(batch*seq)\n",
    "pt_loss = criterion(log_probs, labels)"
   ]
  },
  {
   "cell_type": "code",
   "execution_count": 127,
   "id": "2dbf6bba",
   "metadata": {},
   "outputs": [
    {
     "data": {
      "text/plain": [
       "tensor(113.1933)"
      ]
     },
     "execution_count": 127,
     "metadata": {},
     "output_type": "execute_result"
    }
   ],
   "source": [
    "pt_loss*seq"
   ]
  },
  {
   "cell_type": "code",
   "execution_count": null,
   "id": "fb03489f",
   "metadata": {},
   "outputs": [],
   "source": []
  },
  {
   "cell_type": "code",
   "execution_count": 16,
   "id": "0785e44f",
   "metadata": {},
   "outputs": [],
   "source": [
    "mask = torch.tril(torch.ones(10, 10, dtype=torch.bool, device=\"cpu\"), diagonal=0)"
   ]
  },
  {
   "cell_type": "code",
   "execution_count": 18,
   "id": "17197dc5",
   "metadata": {},
   "outputs": [],
   "source": [
    "mask = mask.long()"
   ]
  },
  {
   "cell_type": "code",
   "execution_count": 19,
   "id": "40312795",
   "metadata": {},
   "outputs": [
    {
     "data": {
      "text/plain": [
       "tensor([[1, 0, 0, 0, 0, 0, 0, 0, 0, 0],\n",
       "        [1, 1, 0, 0, 0, 0, 0, 0, 0, 0],\n",
       "        [1, 1, 1, 0, 0, 0, 0, 0, 0, 0],\n",
       "        [1, 1, 1, 1, 0, 0, 0, 0, 0, 0],\n",
       "        [1, 1, 1, 1, 1, 0, 0, 0, 0, 0],\n",
       "        [1, 1, 1, 1, 1, 1, 0, 0, 0, 0],\n",
       "        [1, 1, 1, 1, 1, 1, 1, 0, 0, 0],\n",
       "        [1, 1, 1, 1, 1, 1, 1, 1, 0, 0],\n",
       "        [1, 1, 1, 1, 1, 1, 1, 1, 1, 0],\n",
       "        [1, 1, 1, 1, 1, 1, 1, 1, 1, 1]])"
      ]
     },
     "execution_count": 19,
     "metadata": {},
     "output_type": "execute_result"
    }
   ],
   "source": [
    "mask"
   ]
  },
  {
   "cell_type": "code",
   "execution_count": null,
   "id": "446af35b",
   "metadata": {},
   "outputs": [],
   "source": []
  }
 ],
 "metadata": {
  "kernelspec": {
   "display_name": "Python 3 (ipykernel)",
   "language": "python",
   "name": "python3"
  },
  "language_info": {
   "codemirror_mode": {
    "name": "ipython",
    "version": 3
   },
   "file_extension": ".py",
   "mimetype": "text/x-python",
   "name": "python",
   "nbconvert_exporter": "python",
   "pygments_lexer": "ipython3",
   "version": "3.10.4"
  }
 },
 "nbformat": 4,
 "nbformat_minor": 5
}
