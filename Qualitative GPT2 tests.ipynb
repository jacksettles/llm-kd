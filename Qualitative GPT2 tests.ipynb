{
 "cells": [
  {
   "cell_type": "code",
   "execution_count": 1,
   "id": "e961e73a",
   "metadata": {},
   "outputs": [],
   "source": [
    "from gpt2_model import GPT, generate_text_until_end\n",
    "from tokenizers import ByteLevelBPETokenizer\n",
    "import torch\n",
    "from rnng_data import RNNGDataset\n",
    "from gpt2_model import generate_square_subsequent_mask\n",
    "import torch.nn.functional as F\n",
    "import thop\n",
    "from thop import profile, clever_format"
   ]
  },
  {
   "cell_type": "code",
   "execution_count": 9,
   "id": "197f2203",
   "metadata": {},
   "outputs": [],
   "source": [
    "tokenizer = ByteLevelBPETokenizer(\"tokenizers/rnng/vocab.json\", \"tokenizers/rnng/merges.txt\")"
   ]
  },
  {
   "cell_type": "code",
   "execution_count": 3,
   "id": "e8879a69",
   "metadata": {},
   "outputs": [
    {
     "name": "stdout",
     "output_type": "stream",
     "text": [
      "Cuda is available. Using GPU.\n"
     ]
    }
   ],
   "source": [
    "if torch.cuda.is_available():\n",
    "    device = \"cuda\"\n",
    "    print(\"Cuda is available. Using GPU.\")\n",
    "else:\n",
    "    device = \"cpu\"\n",
    "    print(\"Cuda is not available. Using CPU.\")"
   ]
  },
  {
   "cell_type": "code",
   "execution_count": 4,
   "id": "eea2964a",
   "metadata": {},
   "outputs": [],
   "source": [
    "# model = GPT(\n",
    "#         vocab_size=12000,\n",
    "#         embed_dim=768,\n",
    "#         max_len=1024,\n",
    "#         embed_dropout=0.1,\n",
    "#         num_blocks=6,\n",
    "#         num_heads=8,\n",
    "#         ff_dim=2048,\n",
    "#         attn_dropout=0.1,\n",
    "#         ff_dropout=0.1\n",
    "#     )\n",
    "# model.to(device)"
   ]
  },
  {
   "cell_type": "code",
   "execution_count": null,
   "id": "e8632f48",
   "metadata": {},
   "outputs": [],
   "source": [
    "m_load = torch.load(\"saved_models/bllip/solo/bllip_ltg_gpt2.pt\")\n",
    "d_load = torch.load(\"saved_models/bllip/distilled/distilled_bllip_ltg_gpt2.pt\")\n",
    "\n",
    "# ptb_load = torch.load(\"saved_models/ptb/solo/raw_gpt2_60epochs_12heads_12blocks.pt\")"
   ]
  },
  {
   "cell_type": "code",
   "execution_count": null,
   "id": "56bacd5b",
   "metadata": {},
   "outputs": [],
   "source": [
    "bllip_model = m_load['model'].to(device)\n",
    "d_bllip_model = d_load['model'].to(device)\n",
    "# ptb_solo_model = ptb_load['model'].to(device) # Can't use these models anymore because changed model definition after training"
   ]
  },
  {
   "cell_type": "markdown",
   "id": "0e10b2b8",
   "metadata": {},
   "source": [
    "## Model parameter profile"
   ]
  },
  {
   "cell_type": "code",
   "execution_count": 7,
   "id": "a6ee4153",
   "metadata": {},
   "outputs": [
    {
     "name": "stdout",
     "output_type": "stream",
     "text": [
      "tensor([[11967,   340,   262,  1743, 10533,  1039]], device='cuda:0')\n"
     ]
    }
   ],
   "source": [
    "# Create a sample input tensor\n",
    "input_tokens = tokenizer.encode(\" This is a test sentence .\").ids\n",
    "input_tensor = torch.tensor(input_tokens).to(device).unsqueeze(0)\n",
    "print(input_tensor)"
   ]
  },
  {
   "cell_type": "code",
   "execution_count": 8,
   "id": "06cac769",
   "metadata": {},
   "outputs": [
    {
     "name": "stdout",
     "output_type": "stream",
     "text": [
      "[INFO] Register zero_ops() for <class 'torch.nn.modules.dropout.Dropout'>.\n",
      "[INFO] Register count_linear() for <class 'torch.nn.modules.linear.Linear'>.\n",
      "MACs: 6.905G, Parameters: 1.151G\n"
     ]
    }
   ],
   "source": [
    "# Profile the model to count MACs\n",
    "macs, params = profile(d_bllip_model, inputs=(input_tensor,))\n",
    "macs, params = clever_format([macs, params], \"%.3f\")\n",
    "print(f\"MACs: {macs}, Parameters: {params}\")"
   ]
  },
  {
   "cell_type": "code",
   "execution_count": 10,
   "id": "33c984c5",
   "metadata": {},
   "outputs": [],
   "source": [
    "input_text = \" The United States \""
   ]
  },
  {
   "cell_type": "code",
   "execution_count": 12,
   "id": "8f5ed81e",
   "metadata": {},
   "outputs": [
    {
     "ename": "NameError",
     "evalue": "name 'd_bllip_model' is not defined",
     "output_type": "error",
     "traceback": [
      "\u001b[0;31m---------------------------------------------------------------------------\u001b[0m",
      "\u001b[0;31mNameError\u001b[0m                                 Traceback (most recent call last)",
      "Cell \u001b[0;32mIn [12], line 1\u001b[0m\n\u001b[0;32m----> 1\u001b[0m generate_text_until_end(input_text\u001b[38;5;241m=\u001b[39minput_text, model\u001b[38;5;241m=\u001b[39m\u001b[43md_bllip_model\u001b[49m, tokenizer\u001b[38;5;241m=\u001b[39mtokenizer, device\u001b[38;5;241m=\u001b[39mdevice, temperature\u001b[38;5;241m=\u001b[39m\u001b[38;5;241m1.0\u001b[39m, top_k\u001b[38;5;241m=\u001b[39m\u001b[38;5;241m2\u001b[39m)\n",
      "\u001b[0;31mNameError\u001b[0m: name 'd_bllip_model' is not defined"
     ]
    }
   ],
   "source": [
    "generate_text_until_end(input_text=input_text, model=d_bllip_model, tokenizer=tokenizer, device=device, temperature=1.0, top_k=2)"
   ]
  },
  {
   "cell_type": "code",
   "execution_count": 34,
   "id": "9355da95",
   "metadata": {},
   "outputs": [],
   "source": [
    "ids = tokenizer.encode(\" blue\").ids"
   ]
  },
  {
   "cell_type": "code",
   "execution_count": 35,
   "id": "3b66255a",
   "metadata": {},
   "outputs": [],
   "source": [
    "ids = torch.tensor(ids).to(device)"
   ]
  },
  {
   "cell_type": "code",
   "execution_count": 36,
   "id": "63e49adb",
   "metadata": {},
   "outputs": [],
   "source": [
    "with torch.no_grad():\n",
    "    emb = n_model.get_emb_no_context(ids)"
   ]
  },
  {
   "cell_type": "code",
   "execution_count": null,
   "id": "5d1d0512",
   "metadata": {},
   "outputs": [],
   "source": []
  },
  {
   "cell_type": "markdown",
   "id": "b3d92d46",
   "metadata": {},
   "source": [
    "# Check training loops"
   ]
  },
  {
   "cell_type": "code",
   "execution_count": 31,
   "id": "120639de",
   "metadata": {},
   "outputs": [],
   "source": [
    "train_loc = \"data/tokenized_data/ptb-train.pkl\""
   ]
  },
  {
   "cell_type": "code",
   "execution_count": 32,
   "id": "1d0425a1",
   "metadata": {},
   "outputs": [],
   "source": [
    "train_data = Dataset(train_loc)"
   ]
  },
  {
   "cell_type": "code",
   "execution_count": 50,
   "id": "a80d8fb7",
   "metadata": {},
   "outputs": [
    {
     "name": "stdout",
     "output_type": "stream",
     "text": [
      "Labels: \n",
      " tensor([[ 5156,   513,   567,  5370,     3,    35,     2],\n",
      "        [ 4483,  1983,  3283,   513,  1839,  1039,     2],\n",
      "        [ 4699,  3050,  3835,   925,  3833,  1039,     2],\n",
      "        [ 1561,   838,  8063,  2989,  3318,  1039,     2],\n",
      "        [ 1561,   786,  4488,   555,  1403,  1039,     2],\n",
      "        [ 1894,    83,     3,   272,   658,    35,     2],\n",
      "        [  470,   596,  4822,  1150,   935,    30,     2],\n",
      "        [11967,   340,   535,   269,  1509,  1039,     2],\n",
      "        [ 4510,   558,  7948,   288,   925,  1039,     2],\n",
      "        [ 2014,  3206,  7720,   279,  6322,  1039,     2],\n",
      "        [ 8392,  8267,   403,  1860,  1021,  1039,     2],\n",
      "        [ 3971,  1243,  4627,   555,  3972,  1039,     2],\n",
      "        [ 4699,  3997,  3994,   279,   332,  1039,     2],\n",
      "        [ 6233,    10,    56,  8933,    60,    30,     2],\n",
      "        [ 1561,  1824,  5201,   555,  3493,  1039,     2],\n",
      "        [ 5156,  2961,  2258,  1873,     3,  1039,     2]], device='cuda:0')\n",
      "Predictions: \n",
      " tensor([[ 1561,  1012,   465,   777,     3,   290,     2],\n",
      "        [ 1561,  1983,   340,   225,   344,   337,     2],\n",
      "        [ 1561,  2263,   465,   332,   225,   225,     2],\n",
      "        [ 1561,   490,  1388,  1752,  2344,    17,     2],\n",
      "        [ 1561,   490,  2817,   288,  1105,  2614,     2],\n",
      "        [ 1561,   657,     3,   319,   992,     3,     3],\n",
      "        [ 1561,  1294,  4878,  1150,   225,   225,     2],\n",
      "        [ 1561,   340,   269,   262,  2084,   288,     2],\n",
      "        [ 1561,   319,   595,   288,   269,   225,     2],\n",
      "        [ 1561, 11106, 10817,    87,    14,   588,     2],\n",
      "        [ 1561,   681,  8954,   262,   262,     3,     2],\n",
      "        [ 1561,   269,  9404,   225, 11653,   225,     2],\n",
      "        [ 1561,  1310,  3994,    76,   269,     3,     3],\n",
      "        [ 1561,    44,    56,  3379,    60,   630,  1586],\n",
      "        [ 1561,   490,  5201,   288,  1488,     3,     2],\n",
      "        [ 1561,  1012,   225,   225,   225,   290,     2]], device='cuda:0')\n"
     ]
    }
   ],
   "source": [
    "sents, length, batch_size, gold_actions, gold_spans, gold_binary_trees, other_data = train_data[40]\n",
    "            \n",
    "# Move sents to GPU\n",
    "sents = sents.to(device)\n",
    "        \n",
    "labels = sents[:, 1:]\n",
    "sents = sents[:, :-1]\n",
    "batch_size, length = sents.size(0), sents.size(1)\n",
    "\n",
    "mask = generate_square_subsequent_mask(length, device=device)\n",
    "\n",
    "logits = model(input_ids=sents, attention_mask=mask)\n",
    "        \n",
    "log_probs_word = F.log_softmax(logits, dim=-1)\n",
    "pred_idx = torch.argmax(log_probs_word, dim=-1)\n",
    "print(\"Labels: \\n\", labels)\n",
    "print(\"Predictions: \\n\", pred_idx)"
   ]
  },
  {
   "cell_type": "code",
   "execution_count": 51,
   "id": "8ccca653",
   "metadata": {},
   "outputs": [],
   "source": [
    "eq = torch.eq(labels, pred_idx).int()"
   ]
  },
  {
   "cell_type": "code",
   "execution_count": 49,
   "id": "a0ed78aa",
   "metadata": {},
   "outputs": [
    {
     "data": {
      "text/plain": [
       "tensor([[0, 0, 0, 1, 1, 1, 0, 1],\n",
       "        [0, 0, 1, 0, 0, 0, 0, 0],\n",
       "        [0, 0, 0, 0, 0, 0, 0, 1],\n",
       "        [0, 0, 0, 1, 1, 0, 0, 1],\n",
       "        [0, 0, 0, 0, 1, 1, 0, 1],\n",
       "        [0, 1, 0, 0, 0, 0, 0, 1],\n",
       "        [0, 0, 0, 0, 0, 0, 0, 1],\n",
       "        [0, 0, 0, 0, 0, 1, 0, 1],\n",
       "        [1, 0, 0, 1, 0, 0, 0, 1],\n",
       "        [0, 1, 0, 0, 1, 1, 0, 1],\n",
       "        [0, 0, 0, 0, 0, 1, 0, 1],\n",
       "        [0, 0, 0, 0, 1, 0, 0, 1],\n",
       "        [0, 0, 0, 1, 0, 0, 0, 1],\n",
       "        [0, 0, 0, 0, 1, 1, 0, 1],\n",
       "        [0, 0, 0, 0, 1, 1, 0, 1],\n",
       "        [0, 0, 1, 0, 0, 0, 0, 1]], device='cuda:0', dtype=torch.int32)"
      ]
     },
     "execution_count": 49,
     "metadata": {},
     "output_type": "execute_result"
    }
   ],
   "source": [
    "eq"
   ]
  },
  {
   "cell_type": "code",
   "execution_count": null,
   "id": "b3cebb07",
   "metadata": {},
   "outputs": [],
   "source": []
  }
 ],
 "metadata": {
  "kernelspec": {
   "display_name": "Python 3 (ipykernel)",
   "language": "python",
   "name": "python3"
  },
  "language_info": {
   "codemirror_mode": {
    "name": "ipython",
    "version": 3
   },
   "file_extension": ".py",
   "mimetype": "text/x-python",
   "name": "python",
   "nbconvert_exporter": "python",
   "pygments_lexer": "ipython3",
   "version": "3.10.4"
  }
 },
 "nbformat": 4,
 "nbformat_minor": 5
}
